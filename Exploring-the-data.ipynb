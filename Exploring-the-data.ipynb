{
 "cells": [
  {
   "cell_type": "code",
   "execution_count": 8,
   "metadata": {},
   "outputs": [],
   "source": [
    "import json\n",
    "import sklearn"
   ]
  },
  {
   "cell_type": "code",
   "execution_count": 9,
   "metadata": {},
   "outputs": [],
   "source": [
    "fp = open('jobs.jl')\n",
    "jobs = [json.loads(foo) for foo in fp]"
   ]
  },
  {
   "cell_type": "code",
   "execution_count": 10,
   "metadata": {},
   "outputs": [
    {
     "data": {
      "text/plain": [
       "239"
      ]
     },
     "execution_count": 10,
     "metadata": {},
     "output_type": "execute_result"
    }
   ],
   "source": [
    "len(jobs)"
   ]
  },
  {
   "cell_type": "code",
   "execution_count": 11,
   "metadata": {},
   "outputs": [
    {
     "data": {
      "text/plain": [
       "{'url': 'https://www.facebook.com/careers/jobs/a0I1H00000LCeXGUA1/',\n",
       " 'title': 'Product Management Lead, Account Integrity (Community Integrity)',\n",
       " 'location': 'London, United Kingdom',\n",
       " 'description': \" Facebook's mission is to give people the power to build community and bring the world closer together. Through our family of apps and services, we're building a different kind of company that connects billions of people around the world, gives them ways to share what matters most to them, and helps bring people closer together. Whether we're creating new products or helping a small business expand its reach, people at Facebook are builders at heart. Our global teams are constantly iterating, solving problems, and working together to empower people around the world to build community and connect in meaningful ways. Together, we can help people build stronger communities — we're just getting started.  Protecting the safety and integrity of the Facebook community is the company's top priority and we’re looking for an experienced PM leader to help direct the Account Integrity feature teams as we accelerate towards the next billion users globally. Account Integrity’s mission is reducing negative experiences caused by abusive accounts. With over 2B+ monthly active users, this is an extremely impactful and rewarding opportunity that directly influences all of Facebook’s integrity efforts from fighting fake news and misinformation to preventing harmful behaviours such as bullying and harassment. The team emphasizes data-analysis and making data-driven decisions, innovation in scaling detection and human review systems via machine learning, and building user experiences that help keep the community at large safe (e.g. weed out fake accounts) and help users recover when unfortunate bad events do occur (rolling back activities – likes, comments, friending, etc… that may have occurred when a user’s account was being controlled by someone other than the account owner). The goals and aims are large, yet there’s ample room for a leader to shape both near and long term investments. \\n \\n \\nCompetitive Salary including the following benefits apply:\\n \\nMedical Benefits\\nDental Benefits \\nVision Benefits \\nPension Benefits \\nLife Assurance \\nChildcare Benefits \\nGym Benefits\\nTransport benefits\\nLaundry Benefit \\nPosted: 21st March 2018\\nClosing date: 18th April 2018 RESPONSIBILITIES We’re looking for a leadership-oriented PM excited by this tremendous opportunity for impact and comfortable being both strategic and hands-on. We’re also looking for an experienced team leader capable of hiring and mentoring Product Management teams. MINIMUM QUALIFICATIONS 8+ years product management experience \\n3+ years experience of managing a team of Product Managers\\n\\nCore skills including delivery of entire products start to finish Exceptional communication and presentation skills Exceptional organisational and analytical skills Understanding of the technical architecture of complex and highly scalable web applications and/or media products Experience designing simple and intuitive user interfaces – ability to create examples through wire frames and mock ups Experience developing social products, technologies and platforms is strongly desired Ability to thrive in a fast-paced, start-up environment\"}"
      ]
     },
     "execution_count": 11,
     "metadata": {},
     "output_type": "execute_result"
    }
   ],
   "source": [
    "jobs[0]"
   ]
  },
  {
   "cell_type": "markdown",
   "metadata": {},
   "source": [
    "This below is a topic modeling demo from https://medium.com/mlreview/topic-modeling-with-scikit-learn-e80d33668730 and http://scikit-learn.org/stable/auto_examples/applications/plot_topics_extraction_with_nmf_lda.html#sphx-glr-auto-examples-applications-plot-topics-extraction-with-nmf-lda-py"
   ]
  },
  {
   "cell_type": "code",
   "execution_count": 16,
   "metadata": {},
   "outputs": [
    {
     "name": "stdout",
     "output_type": "stream",
     "text": [
      "['10', '12', '15', '180', '18th', '20', '2017', '2018', '21st', '25', '2b', '30', '3d', '50', 'abilities', 'ability', 'able', 'abnormal', 'abuse', 'academic', 'academics', 'accelerate', 'accelerators', 'access', 'accessible', 'accomplish', 'according', 'accordingly', 'account', 'accountability', 'accountable', 'accounting', 'accounts', 'accuracy', 'accurate', 'achieve', 'acquisition', 'acquisitions', 'act', 'action', 'actionable', 'actions', 'activating', 'active', 'actively', 'activities', 'activity', 'actor', 'actors', 'actuators', 'acuity', 'ad', 'adapt', 'adaptable', 'adcs', 'add', 'adding', 'addition', 'additional', 'additionally', 'address', 'adf', 'adhere', 'adjust', 'adjustments', 'administration', 'admins', 'adoption', 'ads', 'advance', 'advanced', 'advances', 'advantage', 'adversarial', 'advertisement', 'advertiser', 'advertisers', 'advertising', 'advise', 'advocacy', 'advocate', 'advocates', 'advocating', 'affairs', 'affect', 'affecting', 'affects', 'afraid', 'africa', 'agencies', 'agency', 'agenda', 'aggregate', 'aggregated', 'aggressive', 'agile', 'agility', 'ahead', 'ai', 'aid', 'aim', 'aimed', 'air', 'alerton', 'algorithms', 'align', 'aligned', 'alignment', 'allegro', 'allocation', 'allow', 'allows', 'alongside', 'alphas', 'alternative', 'altium', 'ambiguity', 'ambiguous', 'ambitions', 'ambitious', 'america', 'amid', 'amounts', 'analog', 'analyses', 'analysis', 'analyst', 'analysts', 'analytic', 'analytical', 'analytics', 'analyze', 'analyzing', 'angularjs', 'animation', 'anomaly', 'answer', 'anti', 'anticipate', 'anticipating', 'anytime', 'apac', 'api', 'apis', 'app', 'appeal', 'appealing', 'appeals', 'appetite', 'applicable', 'application', 'applications', 'applied', 'apply', 'applying', 'approach', 'approaches', 'appropriate', 'approval', 'approvals', 'apps', 'april', 'aptitude', 'ar', 'architect', 'architecture', 'architectures', 'area', 'areas', 'aren', 'art', 'articulate', 'articulating', 'artificial', 'asia', 'asics', 'asis', 'aspect', 'aspects', 'assembly', 'assess', 'assessing', 'assessment', 'assessments', 'asset', 'assets', 'assist', 'assistance', 'assists', 'associate', 'associated', 'assurance', 'attack', 'attacker', 'attackers', 'attention', 'attitude', 'attitudes', 'audience', 'audiences', 'audio', 'audit', 'auditing', 'auditors', 'audits', 'augmented', 'austin', 'authentic', 'authentication', 'author', 'authoring', 'authorization', 'automate', 'automated', 'automating', 'automation', 'autonomously', 'availability', 'available', 'avid', 'awareness', 'away', 'awesome', 'ba', 'bachelor', 'bachelors', 'backed', 'backend', 'background', 'backgrounds', 'bad', 'bahasa', 'balance', 'balancing', 'banking', 'barriers', 'base', 'based', 'bases', 'basis', 'bay', 'bci', 'beginning', 'behavior', 'behavioral', 'behaviors', 'behaviours', 'belief', 'bench', 'benchmarking', 'benefit', 'benefits', 'best', 'beta', 'betas', 'better', 'bias', 'big', 'bigtable', 'bilingual', 'billing', 'billion', 'billions', 'binaries', 'bizapps', 'block', 'blockers', 'blueprints', 'bms', 'board', 'boarding', 'bodies', 'body', 'bold', 'bound', 'boundaries', 'box', 'brain', 'brand', 'brands', 'bravery', 'break', 'breaking', 'breakthrough', 'breakthroughs', 'briefing', 'brightest', 'bring', 'bringing', 'brings', 'broad', 'broader', 'bs', 'budget', 'budgets', 'bug', 'bugs', 'builders', 'buildings', 'builds', 'built', 'burmese', 'burnout', 'business', 'businesses', 'ca', 'cad', 'cadence', 'calendar', 'caliber', 'calibration', 'california', 'calm', 'camera', 'cameras', 'campaign', 'campaigns', 'campus', 'candidate', 'candidates', 'capabilities', 'capability', 'capable', 'capacity', 'care', 'career', 'careers', 'carry', 'case', 'cases', 'catch', 'category', 'cause', 'causes', 'center', 'centered', 'centers', 'central', 'centric', 'ceo', 'certification', 'certifications', 'certified', 'chain', 'challenge', 'challenges', 'challenging', 'change', 'changes', 'changing', 'channels', 'chaos', 'characteristics', 'characterization', 'characterize', 'charts', 'checks', 'childcare', 'china', 'chip', 'circles', 'circuit', 'circuits', 'city', 'civic', 'civil', 'class', 'classification', 'classifiers', 'clean', 'clear', 'clearly', 'client', 'clients', 'close', 'closely', 'closer', 'closing', 'cloud', 'cluster', 'clusters', 'cm', 'coach', 'coaching', 'coalitions', 'coast', 'code', 'codebase', 'coder', 'coding', 'coherent', 'collaborate', 'collaborates', 'collaborating', 'collaboration', 'collaborative', 'collaboratively', 'collaborator', 'collateral', 'colleagues', 'collect', 'collection', 'collections', 'college', 'com', 'combat', 'combats', 'combine', 'come', 'comfort', 'comfortable', 'coming', 'commerce', 'commercial', 'commissioning', 'commitment', 'common', 'communicate', 'communicates', 'communicating', 'communication', 'communications', 'communicator', 'communicators', 'communities', 'community', 'companies', 'company', 'comparative', 'compelling', 'compensation', 'competing', 'competitive', 'compile', 'complete', 'completion', 'complex', 'complexity', 'compliance', 'compliant', 'complicated', 'comply', 'component', 'components', 'comprehensive', 'computer', 'computing', 'conceive', 'concept', 'concepts', 'conceptualize', 'conceptualizing', 'concerns', 'concise', 'concrete', 'concurrent', 'concurrently', 'conduct', 'conducting', 'conferences', 'confidence', 'configuration', 'configurations', 'conflict', 'conflicting', 'conflicts', 'connected', 'connecting', 'connection', 'connections', 'connectivity', 'connector', 'connects', 'consensus', 'considered', 'consistency', 'consistent', 'consistently', 'consisting', 'consolidating', 'constantly', 'constituent', 'constituents', 'constraints', 'construction', 'consult', 'consultancy', 'consultative', 'consultatively', 'consulting', 'consumer', 'consumers', 'consumption', 'contact', 'content', 'context', 'continue', 'continues', 'continuity', 'continuous', 'continuously', 'contract', 'contribute', 'contributing', 'contributor', 'contributors', 'control', 'controllers', 'controls', 'conversation', 'conversations', 'conversion', 'cooling', 'coordinate', 'coordinates', 'coordinating', 'coordination', 'coordinator', 'coordinators', 'core', 'corporate', 'corresponding', 'cost', 'costs', 'counseling', 'count', 'countermeasures', 'counterparts', 'countless', 'countries', 'country', 'covering', 'cpp', 'craft', 'create', 'created', 'creates', 'creating', 'creation', 'creative', 'creatively', 'creativity', 'creators', 'crisis', 'criteria', 'critical', 'critically', 'cross', 'cultivates', 'cultural', 'culture', 'curiosity', 'curious', 'current', 'currently', 'custom', 'customer', 'customers', 'customized', 'cut', 'cuts', 'cutting', 'cycle', 'cycles', 'dacs', 'daily', 'darpa', 'dashboard', 'dashboards', 'data', 'database', 'databases', 'datasets', 'date', 'day', 'dc', 'deadlines', 'deal', 'dealing', 'debug', 'debugging', 'decade', 'deception', 'decision', 'decisions', 'dedicated', 'deep', 'deeper', 'deeply', 'define', 'defining', 'definition', 'definitive', 'degree', 'degrees', 'delightful', 'deliver', 'deliverables', 'delivered', 'delivering', 'delivery', 'demands', 'demonstrate', 'demonstrated', 'dental', 'department', 'departments', 'deplorable', 'deploy', 'deploying', 'deployment', 'deployments', 'depth', 'derive', 'derogatory', 'describing', 'descriptive', 'desense', 'design', 'designer', 'designers', 'designing', 'designs', 'desire', 'desired', 'details', 'detect', 'detecting', 'detection', 'determination', 'determine', 'determining', 'develop', 'developed', 'developer', 'developers', 'developing', 'development', 'developments', 'develops', 'device', 'devices', 'devise', 'dfm', 'diagnose', 'diagrams', 'different', 'digital', 'diligent', 'direct', 'direction', 'directly', 'director', 'disaster', 'disciplinary', 'discipline', 'disciplines', 'discourse', 'discovering', 'discussion', 'discussions', 'display', 'displaying', 'displays', 'dispute', 'disrupting', 'distill', 'distributed', 'distribution', 'diverse', 'diversity', 'diving', 'divisional', 'dna', 'documentation', 'documented', 'doing', 'domain', 'domains', 'domestic', 'domestically', 'don', 'dorm', 'draft', 'drafting', 'drawings', 'dreamed', 'drive', 'driven', 'driver', 'drives', 'driving', 'dsp', 'dublin', 'duties', 'dynamic', 'dynamics', 'early', 'easily', 'east', 'eco', 'econ', 'economic', 'economics', 'economy', 'ecosystem', 'ecosystems', 'edge', 'editorial', 'educate', 'education', 'ee', 'effect', 'effective', 'effectively', 'effectiveness', 'effects', 'efficiency', 'efficient', 'efficiently', 'effort', 'efforts', 'elected', 'election', 'elections', 'electrical', 'electro', 'electronic', 'electronics', 'elegant', 'elements', 'elevate', 'elicit', 'eliminate', 'embedded', 'embrace', 'emea', 'emergency', 'emerging', 'empathetic', 'empathy', 'emphasis', 'employee', 'employees', 'employment', 'empower', 'enable', 'enables', 'enabling', 'encompasses', 'encrypted', 'end', 'energy', 'enforce', 'enforcement', 'enforces', 'enforcing', 'engage', 'engaged', 'engagement', 'engaging', 'engine', 'engineer', 'engineering', 'engineers', 'english', 'enhance', 'enhanced', 'enhancements', 'enjoy', 'enrich', 'ensure', 'ensures', 'ensuring', 'entering', 'enterprise', 'entertainment', 'entire', 'entirety', 'entrepreneurial', 'entrepreneurs', 'environment', 'environmental', 'environments', 'equipment', 'equivalent', 'erlang', 'erp', 'error', 'escalate', 'escalated', 'escalation', 'escalations', 'especially', 'essential', 'establish', 'established', 'establishes', 'establishing', 'ethics', 'etl', 'evaluate', 'evaluating', 'evaluation', 'evaluations', 'evaporative', 'event', 'events', 'evolution', 'evolve', 'evolving', 'examples', 'exceed', 'excel', 'excellence', 'excellent', 'exceptional', 'excited', 'excitement', 'exciting', 'exec', 'execute', 'executes', 'executing', 'execution', 'executive', 'executives', 'exhibit', 'existing', 'expand', 'expanding', 'expansion', 'expectations', 'expected', 'experienced', 'experiences', 'experiment', 'experimental', 'experimentation', 'experiments', 'expert', 'expertise', 'experts', 'explain', 'exploit', 'exploration', 'exploratory', 'explore', 'exposure', 'expression', 'extemporaneously', 'extending', 'extensive', 'extensively', 'external', 'externally', 'extraordinary', 'extremely', 'f8', 'face', 'faces', 'facets', 'facilitate', 'facilities', 'facility', 'facing', 'factors', 'failure', 'fair', 'fake', 'familiarity', 'families', 'family', 'fast', 'faster', 'favorite', 'fb', 'fbstart', 'fearlessly', 'feature', 'features', 'federal', 'feed', 'feedback', 'feel', 'fidelity', 'field', 'fields', 'fight', 'fighting', 'figures', 'file', 'filesystems', 'final', 'finance', 'financial', 'finding', 'findings', 'finish', 'finishing', 'firm', 'fiscal', 'fitting', 'fixed', 'fixes', 'flat', 'flex', 'flexibility', 'flexible', 'flows', 'fluency', 'fluent', 'fluid', 'focus', 'focused', 'focuses', 'focusing', 'folks', 'follow', 'followers', 'following', 'footprint', 'forecast', 'forecasting', 'forecasts', 'form', 'formal', 'formats', 'forming', 'forms', 'formulate', 'forward', 'foster', 'fostering', 'foundation', 'founders', 'fpga', 'fpgas', 'frames', 'framework', 'frameworks', 'francophone', 'fraud', 'fraudulent', 'free', 'french', 'frequent', 'frequently', 'friend', 'friends', 'frl', 'fuel', 'fulfill', 'fully', 'function', 'functional', 'functionality', 'functionally', 'functions', 'fundamentals', 'funding', 'funnel', 'future', 'gain', 'gained', 'gaining', 'game', 'gaps', 'gatekeeper', 'gather', 'gathering', 'gdpr', 'geared', 'general', 'generate', 'generating', 'generation', 'genuine', 'geographic', 'geographies', 'geopolitical', 'german', 'getting', 'gigabit', 'given', 'gives', 'giving', 'gleaned', 'globally', 'globe', 'goal', 'goals', 'goes', 'going', 'good', 'goods', 'govern', 'governance', 'government', 'governmental', 'governments', 'gpu', 'graphic', 'graphql', 'gray', 'great', 'greater', 'ground', 'group', 'groups', 'grow', 'growing', 'growth', 'guidance', 'guide', 'guidelines', 'guild', 'gurgaon', 'gym', 'hack', 'hadoop', 'handle', 'handling', 'hands', 'haptics', 'harassment', 'hardest', 'hardware', 'harm', 'harmful', 'harvard', 'haskell', 'hate', 'having', 'haxl', 'hbase', 'hci', 'head', 'headcount', 'headquarters', 'health', 'healthy', 'heard', 'heart', 'help', 'helping', 'helps', 'high', 'higher', 'highest', 'highly', 'hindi', 'hire', 'hiring', 'history', 'hive', 'hoc', 'hold', 'holding', 'holiday', 'holistic', 'holistically', 'hopes', 'horizontally', 'host', 'hours', 'house', 'hr', 'hris', 'hrit', 'http', 'https', 'huge', 'human', 'humidification', 'hypotheses', 'hypothesis', 'i2c', 'ideal', 'ideally', 'ideas', 'ideation', 'identified', 'identify', 'identifying', 'identities', 'illustrate', 'image', 'images', 'imaging', 'imagining', 'immersive', 'impact', 'impactful', 'impacting', 'impacts', 'impeccable', 'impeding', 'implement', 'implementation', 'implemented', 'implementing', 'important', 'importantly', 'improve', 'improvement', 'improvements', 'improving', 'inbound', 'inception', 'incident', 'incidents', 'include', 'includes', 'including', 'inclusion', 'inclusive', 'inconsistencies', 'increase', 'increasing', 'incubators', 'independence', 'independent', 'independently', 'india', 'indian', 'indicators', 'individual', 'individually', 'individuals', 'indonesia', 'indonesian', 'industrial', 'industries', 'industry', 'inefficiencies', 'inferential', 'influence', 'influencers', 'influences', 'influencing', 'influential', 'inform', 'information', 'informational', 'informed', 'informing', 'informs', 'infrastructure', 'initial', 'initiate', 'initiating', 'initiation', 'initiatives', 'innovate', 'innovation', 'innovations', 'innovative', 'input', 'inputs', 'inquiries', 'inside', 'insight', 'insightful', 'insights', 'inspire', 'inspires', 'inspiring', 'instagram', 'installation', 'instant', 'institutions', 'instrumentation', 'integral', 'integrate', 'integrated', 'integrating', 'integration', 'intellectual', 'intellectually', 'intelligence', 'intelligently', 'intensity', 'interaction', 'interactions', 'interactive', 'interconnect', 'interested', 'interests', 'interface', 'interfaces', 'intern', 'internal', 'internally', 'internals', 'international', 'internationally', 'internet', 'interpersonal', 'interpret', 'interpretation', 'intersection', 'interview', 'introduce', 'intuitive', 'inventing', 'inventory', 'invest', 'investigate', 'investigation', 'investigations', 'investigative', 'investigators', 'investment', 'investments', 'involve', 'involved', 'involvement', 'involves', 'involving', 'ip', 'ireland', 'issue', 'issues', 'iterates', 'iterating', 'iterations', 'japanese', 'java', 'javascript', 'jdm', 'jobs', 'johannesburg', 'join', 'journalism', 'journalists', 'journals', 'journey', 'js', 'judgment', 'juggle', 'juggling', 'jurisdictions', 'just', 'justifications', 'kanban', 'keen', 'keepers', 'keeping', 'key', 'keynote', 'kind', 'know', 'knowledge', 'knowledgeable', 'known', 'korean', 'kpis', 'lab', 'laboratory', 'labs', 'landscape', 'landscapes', 'language', 'languages', 'large', 'largest', 'latam', 'latest', 'latin', 'launch', 'launches', 'launching', 'laundry', 'law', 'laws', 'layout', 'lead', 'leader', 'leaders', 'leadership', 'leading', 'leads', 'learn', 'learning', 'learnings', 'led', 'legal', 'lends', 'lens', 'let', 'letters', 'level', 'levels', 'leverage', 'leveraged', 'leveraging', 'levers', 'liaise', 'liaison', 'lieu', 'life', 'lifecycle', 'light', 'like', 'limitations', 'limited', 'line', 'lines', 'link', 'linux', 'literally', 'little', 'live', 'lives', 'll', 'local', 'located', 'location', 'locations', 'logic', 'logistics', 'london', 'long', 'look', 'looked', 'looking', 'lot', 'lots', 'love', 'loves', 'low', 'ma', 'machine', 'magnitude', 'main', 'maintain', 'maintainable', 'maintained', 'maintaining', 'maintains', 'maintenance', 'major', 'make', 'maker', 'makers', 'making', 'malfunctions', 'malicious', 'malware', 'manage', 'management', 'manager', 'managers', 'manages', 'managing', 'mandarin', 'manipulate', 'manipulating', 'manner', 'manual', 'manufacturability', 'manufacturing', 'map', 'mapping', 'mapreduce', 'maps', 'march', 'market', 'marketers', 'marketing', 'marketplace', 'marketplaces', 'markets', 'mass', 'massive', 'massively', 'master', 'masters', 'match', 'matches', 'material', 'materials', 'math', 'mathematics', 'matlab', 'matrix', 'matter', 'matters', 'maturity', 'maximize', 'mba', 'md', 'meaningful', 'means', 'measurable', 'measure', 'measurement', 'measurements', 'measures', 'measuring', 'mechanical', 'mechanisms', 'media', 'medical', 'medium', 'meet', 'meeting', 'meetings', 'member', 'members', 'memory', 'menlo', 'mentor', 'mentoring', 'mentorship', 'merchant', 'message', 'messaging', 'messenger', 'met', 'method', 'methodologies', 'methodology', 'methods', 'metric', 'metrics', 'microcontrollers', 'microelectronic', 'microprocessors', 'microsoft', 'migration', 'milestones', 'military', 'million', 'millions', 'minded', 'minds', 'mindset', 'minimal', 'minimize', 'minimizing', 'mining', 'mipi', 'mirror', 'misinformation', 'mission', 'mistake', 'mitigate', 'mitigating', 'mitigation', 'mix', 'mixed', 'ml', 'mobile', 'mock', 'model', 'modeled', 'modeling', 'models', 'modern', 'modifications', 'modules', 'moments', 'momentum', 'monetization', 'monetizing', 'money', 'monitor', 'monitoring', 'monitors', 'month', 'monthly', 'mortem', 'motivate', 'motivated', 'motivating', 'motivational', 'moving', 'ms', 'multi', 'multidisciplinary', 'multiple', 'multitasking', 'mysql', 'narrative', 'national', 'natural', 'navigate', 'navigating', 'nebulous', 'necessary', 'need', 'needed', 'needs', 'nefarious', 'negative', 'negotiation', 'negotiations', 'network', 'networking', 'networks', 'neural', 'news', 'nlp', 'node', 'non', 'norm', 'north', 'note', 'notice', 'novel', 'nudity', 'number', 'numbers', 'object', 'objectionable', 'objective', 'objectives', 'obsessed', 'obsession', 'obstacles', 'obtain', 'ocaml', 'occasional', 'oculus', 'odm', 'oem', 'offensive', 'offer', 'offers', 'office', 'offices', 'offs', 'old', 'onboard', 'ongoing', 'online', 'onsite', 'open', 'openness', 'operate', 'operates', 'operating', 'operation', 'operational', 'operations', 'opex', 'opportunities', 'opportunity', 'ops', 'optical', 'optics', 'optimal', 'optimization', 'optimize', 'optimized', 'optimizing', 'optimum', 'opto', 'optoelectronics', 'oracle', 'oral', 'order', 'orders', 'org', 'organisational', 'organisations', 'organised', 'organization', 'organizational', 'organizations', 'organize', 'organized', 'organizing', 'orientated', 'oriented', 'original', 'outbound', 'outcomes', 'outreach', 'outside', 'outsourced', 'outsourcing', 'outstanding', 'overall', 'overcome', 'overnight', 'oversee', 'overseeing', 'oversight', 'owner', 'owners', 'ownership', 'owning', 'owns', 'paced', 'package', 'packages', 'page', 'pages', 'paid', 'pain', 'parallel', 'park', 'participate', 'particular', 'particularly', 'parties', 'partner', 'partnering', 'partners', 'partnership', 'partnerships', 'party', 'passion', 'passionate', 'passive', 'past', 'pattern', 'patterns', 'paulo', 'pay', 'payment', 'payments', 'pcb', 'pcie', 'peak', 'peer', 'peers', 'pension', 'peoplesoft', 'percent', 'perception', 'perfect', 'perform', 'performance', 'performing', 'perl', 'permissions', 'person', 'personal', 'perspective', 'perspectives', 'ph', 'phase', 'phases', 'phd', 'phenomenology', 'philosophies', 'photos', 'php', 'physical', 'physics', 'picture', 'pig', 'pipeline', 'pipelines', 'pivot', 'pivottable', 'pixel', 'place', 'plan', 'planned', 'planning', 'plans', 'plants', 'platform', 'platforms', 'play', 'played', 'player', 'playing', 'plug', 'plus', 'pm', 'pmbok', 'pmi', 'pmp', 'point', 'points', 'polarization', 'policies', 'policy', 'political', 'politics', 'portfolio', 'portuguese', 'position', 'positioning', 'positions', 'positive', 'possible', 'post', 'posted', 'posts', 'potential', 'potentially', 'powerpoint', 'pr', 'practical', 'practice', 'practices', 'predict', 'predictive', 'preferably', 'preferred', 'preffered', 'presence', 'present', 'presentation', 'presentations', 'presenting', 'press', 'pressure', 'prevalence', 'prevent', 'preventing', 'previous', 'primarily', 'primary', 'principles', 'prior', 'priorities', 'prioritization', 'prioritize', 'prioritized', 'prioritizing', 'priority', 'privacy', 'private', 'proactive', 'proactively', 'probing', 'problem', 'procedure', 'procedures', 'process', 'processes', 'processing', 'processors', 'procure', 'procurement', 'produce', 'produced', 'producers', 'producing', 'product', 'production', 'productivity', 'professional', 'professionals', 'profile', 'program', 'programmatic', 'programming', 'programs', 'progress', 'progressive', 'project', 'projects', 'proliferating', 'promote', 'promoted', 'promoting', 'proof', 'proper', 'property', 'proposals', 'proposing', 'proprietary', 'protect', 'protected', 'protecting', 'protection', 'protections', 'protects', 'protocols', 'prototype', 'prototypes', 'prototyping', 'proven', 'provide', 'provides', 'providing', 'psp', 'psychology', 'public', 'publish', 'publishers', 'publishes', 'publishing', 'pull', 'purpose', 'purposes', 'push', 'python', 'qualification', 'qualified', 'qualitative', 'qualities', 'quality', 'quantify', 'quantitative', 'queries', 'questions', 'queue', 'quick', 'quickly', 'raise', 'rally', 'ramp', 'range', 'ranges', 'ranging', 'ranking', 'rapid', 'rapidly', 'reach', 'reaching', 'react', 'reactjs', 'read', 'readable', 'ready', 'real', 'reality', 'realize', 'really', 'receivable', 'receive', 'received', 'receiving', 'recognition', 'recognized', 'recommend', 'recommendation', 'recommendations', 'recommending', 'record', 'records', 'recruit', 'recruiter', 'recruiters', 'recruiting', 'recruitment', 'redefine', 'reduce', 'reduced', 'reducing', 'refine', 'refinements', 'reflect', 'regard', 'regarded', 'regarding', 'region', 'regional', 'regions', 'regression', 'regressions', 'regular', 'regularly', 'regulations', 'regulators', 'regulatory', 'reimagining', 'relate', 'related', 'relating', 'relational', 'relations', 'relationship', 'relationships', 'relative', 'relays', 'relentless', 'relevant', 'reliability', 'reliable', 'remain', 'remains', 'remediate', 'remediation', 'remotely', 'remove', 'removing', 'repair', 'report', 'reported', 'reporting', 'reports', 'represent', 'representative', 'represents', 'reputation', 'requests', 'require', 'required', 'requirements', 'requires', 'requiring', 'research', 'researcher', 'researchers', 'researching', 'resilience', 'resiliency', 'resistant', 'resolution', 'resolve', 'resolved', 'resolving', 'resource', 'resourceful', 'resourcefully', 'resourcefulness', 'resources', 'resourcing', 'respond', 'responding', 'response', 'responses', 'responsibility', 'responsible', 'rest', 'result', 'results', 'resume', 'retain', 'retention', 'retrofits', 'revenue', 'reverse', 'review', 'reviewed', 'reviewers', 'reviewing', 'reviews', 'revolutionary', 'revolutionizing', 'rewards', 'rf', 'right', 'rights', 'rigorous', 'risk', 'risks', 'road', 'roadblocks', 'roadmap', 'roadmaps', 'robust', 'roi', 'role', 'roles', 'roll', 'rollouts', 'room', 'root', 'router', 'routing', 'rtl', 'ruby', 'rule', 'rules', 'run', 'running', 'safe', 'safer', 'safety', 'salary', 'sales', 'salesforce', 'sap', 'sas', 'satisfaction', 'sawzall', 'scalability', 'scalable', 'scale', 'scaled', 'scaling', 'schedule', 'schedulers', 'scheduling', 'schematic', 'school', 'science', 'scientific', 'scientist', 'scientists', 'scope', 'scrappy', 'scripting', 'scripts', 'scrum', 'seamless', 'seamlessly', 'search', 'searches', 'searching', 'seattle', 'sector', 'secure', 'security', 'seek', 'seeking', 'seeks', 'segment', 'segments', 'selected', 'selection', 'self', 'semiconductor', 'send', 'senior', 'sense', 'sensitive', 'sensor', 'sensors', 'sent', 'sequencing', 'seriously', 'serve', 'server', 'servers', 'service', 'services', 'serving', 'sessions', 'set', 'sets', 'setting', 'settings', 'shape', 'shaping', 'shared', 'sharing', 'shell', 'shift', 'ship', 'shipping', 'shop', 'short', 'signal', 'significant', 'silicon', 'similar', 'simple', 'simplifying', 'simulation', 'simulations', 'simultaneously', 'singapore', 'site', 'sites', 'sitting', 'situational', 'situations', 'sized', 'skill', 'skills', 'sla', 'slas', 'smb', 'smes', 'smooth', 'soap', 'social', 'society', 'sociology', 'socs', 'soft', 'software', 'solutions', 'solve', 'solver', 'solving', 'sound', 'source', 'sourcers', 'sources', 'sourcing', 'space', 'spam', 'span', 'spanish', 'spanning', 'spans', 'speak', 'specialist', 'specialists', 'specific', 'specifically', 'specifications', 'speech', 'speed', 'spend', 'spi', 'spice', 'spike', 'sports', 'spotting', 'spreading', 'spss', 'sql', 'squarely', 'stability', 'stack', 'staff', 'staffing', 'stage', 'stages', 'stakeholder', 'stakeholders', 'standard', 'standardization', 'standards', 'start', 'started', 'starter', 'starting', 'starts', 'startup', 'startups', 'stata', 'state', 'statistical', 'statistics', 'status', 'stay', 'step', 'steps', 'stop', 'stories', 'story', 'strategic', 'strategically', 'strategies', 'strategize', 'strategy', 'streamline', 'strength', 'strengthen', 'stress', 'strive', 'strives', 'strong', 'stronger', 'strongest', 'strongly', 'structure', 'structured', 'structures', 'studies', 'sub', 'subject', 'submitted', 'substantial', 'succeed', 'success', 'successfactor', 'successful', 'successfully', 'suggest', 'suggestions', 'suite', 'superb', 'superior', 'suppliers', 'supply', 'support', 'supported', 'supporting', 'supportive', 'supports', 'surface', 'surfaces', 'surrounding', 'surveillance', 'survey', 'suspicious', 'sustained', 'sw', 'switch', 'switching', 'synthesis', 'synthesize', 'systematic', 'systems', 'tableau', 'tackle', 'tackling', 'tactical', 'tactics', 'takedown', 'takes', 'taking', 'talent', 'talented', 'talk', 'target', 'targeted', 'targets', 'task', 'tasking', 'tasks', 'tax', 'team', 'teammates', 'tech', 'technical', 'technically', 'technician', 'techniques', 'technologies', 'technology', 'tell', 'tenacity', 'tenured', 'term', 'termination', 'terms', 'test', 'testing', 'tests', 'texas', 'text', 'thermal', 'things', 'think', 'thinker', 'thinking', 'thinks', 'thorough', 'thought', 'thoughtful', 'thousand', 'threat', 'threats', 'thrive', 'thrives', 'throughput', 'tier', 'tight', 'time', 'timelines', 'timely', 'timing', 'tolerance', 'tons', 'tool', 'tooling', 'tools', 'topic', 'topics', 'touch', 'tpm', 'tpms', 'track', 'tracking', 'trade', 'traffic', 'train', 'training', 'trainings', 'traits', 'transactions', 'transform', 'transformational', 'transformative', 'transformed', 'transforming', 'transition', 'translate', 'translating', 'transparency', 'transparent', 'transport', 'transportation', 'traumatic', 'travel', 'tremendous', 'trend', 'trending', 'trends', 'triage', 'troubleshoot', 'troubleshooting', 'trust', 'trusted', 'trustworthy', 'trying', 'tuning', 'tx', 'types', 'typical', 'ui', 'ultimately', 'uncovering', 'underlying', 'understand', 'understanding', 'underway', 'unfold', 'unify', 'unique', 'units', 'universities', 'university', 'unix', 'unplanned', 'unwavering', 'upcoming', 'updates', 'upgrades', 'ups', 'upstream', 'urgency', 'usability', 'usage', 'usb', 'use', 'used', 'useful', 'user', 'users', 'uses', 'using', 'utilizing', 'ux', 'validate', 'validation', 'valuable', 'value', 'values', 'variety', 'various', 'varying', 'vast', 'vcs', 've', 'velocity', 'vendor', 'vendors', 'verilog', 'versa', 'vertica', 'verticals', 'vhdl', 'vice', 'video', 'videos', 'view', 'views', 'violate', 'violating', 'violations', 'virtual', 'visibility', 'vision', 'visualisation', 'visualization', 'visualizations', 'vlsi', 'voice', 'volume', 'volumes', 'vp', 'vr', 'vulnerabilities', 'wa', 'want', 'watch', 'waterfall', 'way', 'ways', 'wearable', 'web', 'weekend', 'weekly', 'west', 'whatsapp', 'wide', 'wider', 'willingness', 'windows', 'wins', 'wire', 'wireless', 'wisdom', 'word', 'work', 'workday', 'workflow', 'workflows', 'workforce', 'workload', 'works', 'worldwide', 'write', 'writers', 'writing', 'writings', 'written', 'wrong', 'xfn', 'year', 'years', 'york', 'zones']\n"
     ]
    }
   ],
   "source": [
    "from sklearn.feature_extraction.text import TfidfVectorizer\n",
    "no_features = 10000\n",
    "tfidf_vectorizer = TfidfVectorizer(max_df=0.95, min_df=2, max_features=no_features, stop_words='english')\n",
    "docs = [\"{} {}\".format(j['title'], j['description']) for j in jobs]\n",
    "tfidf = tfidf_vectorizer.fit_transform(docs)\n",
    "tfidf_feature_names = tfidf_vectorizer.get_feature_names()\n",
    "print(tfidf_feature_names)"
   ]
  },
  {
   "cell_type": "markdown",
   "metadata": {},
   "source": [
    "\n",
    "\n",
    "It's interesting how NNMF, PLSI, and LDA come up with different topics for the same documents.\n",
    "\n"
   ]
  },
  {
   "cell_type": "code",
   "execution_count": 23,
   "metadata": {},
   "outputs": [],
   "source": [
    "from sklearn.decomposition import NMF\n",
    "no_topics = 10\n",
    "\n",
    "# Run NMF\n",
    "nmf = NMF(n_components=no_topics, random_state=1, alpha=.1, l1_ratio=.5, init='nndsvd').fit(tfidf)"
   ]
  },
  {
   "cell_type": "code",
   "execution_count": 24,
   "metadata": {},
   "outputs": [
    {
     "name": "stdout",
     "output_type": "stream",
     "text": [
      "Topic 0:\n",
      "workflows internal data business external workflow metrics measurement threats communicate\n",
      "Topic 1:\n",
      "recruiting hiring recruiter compensation hr maintain partnering cycle stakeholders team\n",
      "Topic 2:\n",
      "enterprise financial productivity establish bachelors engineering business operational aligned month\n",
      "Topic 3:\n",
      "enterprise applications web end java software scalable apis soap imagining\n",
      "Topic 4:\n",
      "data analysis technical informed business statistical quality insights quantitative engineering\n",
      "Topic 5:\n",
      "operations team risk community media solutions business policy escalations data\n",
      "Topic 6:\n",
      "program implementation technical coordination day management projects tpm requirements manager\n",
      "Topic 7:\n",
      "whatsapp abuse detection simple reliable talk free anti way erlang\n",
      "Topic 8:\n",
      "electrical hardware design layout signal mechanical engineer test board network\n",
      "Topic 9:\n",
      "product marketing partnerships startups policy developers companies strategic market developer\n"
     ]
    }
   ],
   "source": [
    "def display_topics(model, feature_names, no_top_words):\n",
    "    for topic_idx, topic in enumerate(model.components_):\n",
    "        print(\"Topic %d:\" % (topic_idx))\n",
    "        print(\" \".join([feature_names[i]\n",
    "                        for i in topic.argsort()[:-no_top_words - 1:-1]]))\n",
    "\n",
    "no_top_words = 10\n",
    "display_topics(nmf, tfidf_feature_names, no_top_words)"
   ]
  },
  {
   "cell_type": "code",
   "execution_count": 26,
   "metadata": {},
   "outputs": [
    {
     "name": "stdout",
     "output_type": "stream",
     "text": [
      "Topic 0:\n",
      "ways stronger solving services team work reach mission empower family\n",
      "Topic 1:\n",
      "recruiting updates sourcing relationships spike stakeholders recruiter regularly techniques unique\n",
      "Topic 2:\n",
      "systems getting team work gives supporting years strategic position ways\n",
      "Topic 3:\n",
      "complex measurement metrics expand based mission tools ensure design pain\n",
      "Topic 4:\n",
      "php sql wrong sets systems using quantitative python solve content\n",
      "Topic 5:\n",
      "provide operations support problem services strong scalable risk partners risks\n",
      "Topic 6:\n",
      "technical systems hands program software technology scope engineering manager problem\n",
      "Topic 7:\n",
      "php simple social ideal related knowledge machine laundry science engineers\n",
      "Topic 8:\n",
      "high phd level technology years ideas using design including researchers\n",
      "Topic 9:\n",
      "travel 25 proactively willingness serving partnerships track startup social relationship\n"
     ]
    }
   ],
   "source": [
    "plsi = NMF(n_components=no_topics, random_state=1,\n",
    "          beta_loss='kullback-leibler', solver='mu', max_iter=1000, alpha=.1,\n",
    "          l1_ratio=.5).fit(tfidf)\n",
    "display_topics(plsi, tfidf_feature_names, 10)"
   ]
  },
  {
   "cell_type": "code",
   "execution_count": 32,
   "metadata": {},
   "outputs": [
    {
     "name": "stdout",
     "output_type": "stream",
     "text": [
      "Topic 0:\n",
      "data team business engineering technical product analysis systems functional cross\n",
      "Topic 1:\n",
      "data team business closer bring community product operations technical ways\n",
      "Topic 2:\n",
      "business team data community product ways bring closer work management\n",
      "Topic 3:\n",
      "whatsapp abuse research team detection simple product data spam anti\n",
      "Topic 4:\n",
      "product team business data help analysis bring ways solving closer\n",
      "Topic 5:\n",
      "business product team engineering management community closer ways operations solving\n",
      "Topic 6:\n",
      "network data suppliers odm generation design signal product business community\n",
      "Topic 7:\n",
      "team electrical business systems engineering community work internal functional design\n",
      "Topic 8:\n",
      "data team product management community business closer engineering bring program\n",
      "Topic 9:\n",
      "team business product data mission solving work systems management ensure\n"
     ]
    }
   ],
   "source": [
    "from sklearn.decomposition import LatentDirichletAllocation\n",
    "from sklearn.feature_extraction.text import CountVectorizer\n",
    "\n",
    "tf_vectorizer = CountVectorizer(max_df=0.95, min_df=2, max_features=no_features,\n",
    "                                stop_words='english')\n",
    "tf = tf_vectorizer.fit_transform(docs)\n",
    "lda = LatentDirichletAllocation(n_components=no_topics, max_iter=5,\n",
    "                                learning_method='online',\n",
    "                                learning_offset=50.,\n",
    "                                random_state=0)\n",
    "lda.fit(tf)\n",
    "tf_feature_names = tf_vectorizer.get_feature_names()\n",
    "display_topics(lda, tf_feature_names, 10)"
   ]
  },
  {
   "cell_type": "markdown",
   "metadata": {},
   "source": [
    "Note that LDA works from count data only, rather than weights.  As a result, the LDA topics are crowded out by the boilerplate language; note that almost every cluster is about bringing communities closer.  The NMF methods get around this using tf-idf weights which discount words that occur in every document."
   ]
  },
  {
   "cell_type": "markdown",
   "metadata": {},
   "source": [
    "Just as a comparison point, here's the same analysis with k-Means.  I'm not a big fan of k-Means in this problem because I don't have a good prior for how many clusters there are, but it might be more familiar to people.  As a bonus, the jobs are actually assigned to clusters."
   ]
  },
  {
   "cell_type": "code",
   "execution_count": 50,
   "metadata": {},
   "outputs": [
    {
     "name": "stdout",
     "output_type": "stream",
     "text": [
      "[0 0 2 2 0 2 2 2 0 2 2 2 2 0 0 0 2 2 2 2 2 3 2 2 2 2 2 2 2 2 2 2 2 2 2 0 2\n",
      " 2 0 2 2 2 2 0 3 2 3 0 2 3 2 0 2 0 0 0 2 2 2 3 2 0 2 2 0 2 2 2 3 0 0 2 2 2\n",
      " 2 2 2 0 2 2 2 2 2 2 0 4 4 2 2 0 4 2 2 2 0 0 2 0 2 4 2 4 4 2 2 3 0 4 4 3 0\n",
      " 0 0 0 0 3 3 0 0 3 3 0 0 2 2 2 3 2 2 2 2 1 2 0 1 2 2 2 2 2 0 2 1 0 2 1 2 1\n",
      " 0 0 1 2 0 2 1 0 1 2 2 2 2 1 2 1 0 0 2 2 2 1 2 0 2 0 4 1 3 0 2 1 1 0 2 1 2\n",
      " 0 2 0 2 1 2 2 0 1 2 1 1 1 1 1 1 2 0 1 2 0 2 2 0 1 2 0 1 2 0 0 0 3 3 3 3 3\n",
      " 3 0 0 0 0 0 3 0 0 3 3 2 0 0 3 4 4]\n",
      "Cluster 0: product design research marketing security whatsapp abuse electrical community team\n",
      "Cluster 1: recruiting hiring recruiter maintain hr compensation partnering university cycle team\n",
      "Cluster 2: data business team operations systems quality community product analysis engineering\n",
      "Cluster 3: program product programs startups technical partnerships developers work policy management\n",
      "Cluster 4: policy public escalations standards community africa policies benefits enforcement whatsapp\n"
     ]
    }
   ],
   "source": [
    "from sklearn.cluster import MiniBatchKMeans\n",
    "from sklearn import metrics\n",
    "\n",
    "true_k = 5\n",
    "km = MiniBatchKMeans(n_clusters=true_k, init='k-means++', n_init=1,\n",
    "                         init_size=1000, batch_size=1000).fit(tfidf)\n",
    "print(km.labels_)\n",
    "\n",
    "order_centroids = km.cluster_centers_.argsort()[:, ::-1]\n",
    "for i in range(true_k):\n",
    "    print(\"Cluster %d:\" % i, end='')\n",
    "    for ind in order_centroids[i, :10]:\n",
    "        print(' %s' % tfidf_feature_names[ind], end='')\n",
    "    print()"
   ]
  },
  {
   "cell_type": "markdown",
   "metadata": {},
   "source": [
    "In the end, I think this reflects that the positions break down along operating unit lines: business development, recruiting, analytics, risk and security.  This isn't very indicating of what integrity means, but it does show that as a term it spans the company's operations.  I can't tell from here if it means the same thing to everyone."
   ]
  },
  {
   "cell_type": "code",
   "execution_count": null,
   "metadata": {},
   "outputs": [],
   "source": []
  }
 ],
 "metadata": {
  "kernelspec": {
   "display_name": "fb-careers",
   "language": "python",
   "name": "fb-careers"
  },
  "language_info": {
   "codemirror_mode": {
    "name": "ipython",
    "version": 3
   },
   "file_extension": ".py",
   "mimetype": "text/x-python",
   "name": "python",
   "nbconvert_exporter": "python",
   "pygments_lexer": "ipython3",
   "version": "3.6.6"
  }
 },
 "nbformat": 4,
 "nbformat_minor": 2
}
